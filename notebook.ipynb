{
  "cells": [
    {
      "cell_type": "markdown",
      "metadata": {
        "vscode": {
          "languageId": "raw"
        }
      },
      "source": [
        "# Mozela Project Analysis Notebook\n",
        "\n",
        "This notebook contains the main analysis and exploration for the Mozela project. The notebook is structured to be clear, reproducible, and well-documented.\n",
        "\n",
        "## Table of Contents\n",
        "1. Setup and Dependencies\n",
        "2. Data Loading and Preprocessing\n",
        "3. Exploratory Data Analysis\n",
        "4. Analysis and Modeling\n",
        "5. Results and Visualization\n",
        "6. Conclusions\n",
        "\n",
        "## Setup Instructions\n",
        "1. Ensure you have all dependencies installed (see `requirements.txt`)\n",
        "2. Configure your environment variables (see `.env.example`)\n",
        "3. Run the cells in order for the best experience\n",
        "\n",
        "## Notes\n",
        "- Each section is clearly marked with markdown cells\n",
        "- Code is documented with comments\n",
        "- Important findings are highlighted\n",
        "- Visualizations include detailed descriptions\n"
      ]
    },
    {
      "cell_type": "code",
      "execution_count": 6,
      "metadata": {},
      "outputs": [
        {
          "name": "stdout",
          "output_type": "stream",
          "text": [
            "Environment setup completed successfully!\n"
          ]
        },
        {
          "name": "stderr",
          "output_type": "stream",
          "text": [
            "/var/folders/f9/zgk8jdl15h32ccr4fy4qxmvm0000gn/T/ipykernel_10218/2872815765.py:15: MatplotlibDeprecationWarning: The seaborn styles shipped by Matplotlib are deprecated since 3.6, as they no longer correspond to the styles shipped by seaborn. However, they will remain available as 'seaborn-v0_8-<style>'. Alternatively, directly use the seaborn API instead.\n",
            "  plt.style.use('seaborn')\n"
          ]
        }
      ],
      "source": [
        "# 1. Setup and Dependencies\n",
        "\n",
        "# Import required libraries\n",
        "import numpy as np\n",
        "import pandas as pd\n",
        "import matplotlib.pyplot as plt\n",
        "import seaborn as sns\n",
        "from dotenv import load_dotenv\n",
        "import os\n",
        "\n",
        "# Load environment variables\n",
        "load_dotenv()\n",
        "\n",
        "# Set up plotting style\n",
        "plt.style.use('seaborn')\n",
        "sns.set_theme(style=\"whitegrid\")\n",
        "\n",
        "print(\"Environment setup completed successfully!\")\n"
      ]
    },
    {
      "cell_type": "code",
      "execution_count": null,
      "metadata": {},
      "outputs": [],
      "source": []
    }
  ],
  "metadata": {
    "kernelspec": {
      "display_name": "Python (env)",
      "language": "python",
      "name": "env"
    },
    "language_info": {
      "codemirror_mode": {
        "name": "ipython",
        "version": 3
      },
      "file_extension": ".py",
      "mimetype": "text/x-python",
      "name": "python",
      "nbconvert_exporter": "python",
      "pygments_lexer": "ipython3",
      "version": "3.8.19"
    }
  },
  "nbformat": 4,
  "nbformat_minor": 2
}
